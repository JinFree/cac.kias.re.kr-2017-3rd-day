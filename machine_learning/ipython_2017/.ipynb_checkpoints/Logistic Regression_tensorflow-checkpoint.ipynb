{
 "cells": [
  {
   "cell_type": "markdown",
   "metadata": {},
   "source": [
    "## Logistic regression with tensorflow"
   ]
  },
  {
   "cell_type": "markdown",
   "metadata": {},
   "source": [
    "The 8th KIAS CAC Summer School \n",
    "\n",
    "Machine Learning Practice I - Logistic Regression example\n",
    "\n",
    "Author: Yung-Kyun Noh, Ph.D.\n",
    "\n",
    "Many parts are borrowed from Jiseob Kim's <a href=\"https://github.com/kias-tf-tutorial/kias-tf-tutorial\">Github</a>.\n"
   ]
  },
  {
   "cell_type": "code",
   "execution_count": 1,
   "metadata": {
    "collapsed": true
   },
   "outputs": [],
   "source": [
    "import tensorflow as tf"
   ]
  },
  {
   "cell_type": "code",
   "execution_count": 2,
   "metadata": {
    "collapsed": false
   },
   "outputs": [
    {
     "name": "stdout",
     "output_type": "stream",
     "text": [
      "Populating the interactive namespace from numpy and matplotlib\n"
     ]
    }
   ],
   "source": [
    "import numpy as np\n",
    "import matplotlib.pyplot as plt\n",
    "\n",
    "%pylab inline"
   ]
  },
  {
   "cell_type": "markdown",
   "metadata": {},
   "source": [
    "### Data preparation"
   ]
  },
  {
   "cell_type": "markdown",
   "metadata": {},
   "source": [
    "We use a two-class synthetic dataset from two different Gaussian density functions.\n",
    "\\begin{eqnarray}\n",
    "p(\\mathbf{x}|\\mu_c, \\Sigma_c) = \\frac{1}{\\sqrt{2\\pi}|\\Sigma_c|^\\frac{1}{2}} \\exp\\left(-\\frac{1}{2}(\\mathbf{x} - \\mu_c)^\\top\\Sigma_c^{-1}(\\mathbf{x} - \\mu_c)\\right)   \\quad \\text{for class} \\quad c = \\{1,2\\}\n",
    "\\end{eqnarray}\n",
    "\n",
    "The first class uses $\\mu_1 = \\left(\\begin{array}{c}\n",
    "4 \\\\\n",
    "0\n",
    "\\end{array}\\right)$, $\\Sigma_1 = \\left(\\begin{array}{cc}\n",
    "1 & 0 \\\\\n",
    "0 & 1\n",
    "\\end{array}\\right)$, and the second class uses $\\mu_2 = \\left(\\begin{array}{c}\n",
    "0 \\\\\n",
    "4\n",
    "\\end{array}\\right)$, $\\Sigma_2 = \\left(\\begin{array}{cc}\n",
    "1 & 0 \\\\\n",
    "0 & 1\n",
    "\\end{array}\\right)$."
   ]
  },
  {
   "cell_type": "code",
   "execution_count": 3,
   "metadata": {
    "collapsed": false
   },
   "outputs": [
    {
     "data": {
      "image/png": "[encoded data removed]",
      "text/plain": [
       "<matplotlib.figure.Figure at 0x7f95c6a9e610>"
      ]
     },
     "metadata": {},
     "output_type": "display_data"
    }
   ],
   "source": [
    "n_data_per_class = 50\n",
    "num_class = 2\n",
    "dim_data = 2\n",
    "data1 = np.random.multivariate_normal([4,0], [[1,0],[0,1]], n_data_per_class)\n",
    "#print data1\n",
    "data2 = np.random.multivariate_normal([0,4], [[1,0],[0,1]], n_data_per_class)\n",
    "data_x = np.vstack([data1,data2])\n",
    "data_y = np.hstack([np.ones((n_data_per_class,)), -np.ones((n_data_per_class,))])\n",
    "\n",
    "def draw_state(wval, bval):\n",
    "    plt.rcParams['figure.figsize']=(5,5)\n",
    "    plt.scatter(data1[:,0],data1[:,1],30,'r')\n",
    "    plt.scatter(data2[:,0],data2[:,1],30,'b')\n",
    "    [x1min,x1max,x2min,x2max] = plt.axis()\n",
    "    x1val = np.arange(x1min,x1max,0.1)\n",
    "    \n",
    "    plt.plot(x1val, -(wval[0]*x1val+bval)/wval[1], 'k')\n",
    "    plt.axis([x1min,x1max,x2min,x2max])\n",
    "    plt.show()\n",
    "    \n",
    "\n",
    "W_temp = [1,1]\n",
    "b_temp = 0\n",
    "draw_state(W_temp, b_temp)"
   ]
  },
  {
   "cell_type": "markdown",
   "metadata": {},
   "source": [
    "## Logistic regression\n"
   ]
  },
  {
   "cell_type": "markdown",
   "metadata": {},
   "source": [
    "\\begin{eqnarray}\n",
    "P(y = 1|\\mathbf{x};\\mathbf{w},b) &=& \\frac{1}{1 + \\exp(-(\\mathbf{w}^\\top\\mathbf{x} + b))} \\\\\n",
    "P(y = -1|\\mathbf{x};\\mathbf{w},b) &=& \\frac{1}{1 + \\exp(\\mathbf{w}^\\top\\mathbf{x} + b)}\n",
    "\\end{eqnarray}\n",
    "The objective function $L$ with $\\mathcal{D}=\\{\\mathbf{x}_i,y_i\\}_{i = 1}^N$\n",
    "\\begin{eqnarray}\n",
    "L &=& -\\log P(y_1,\\ldots,y_N|\\mathbf{x}_1,\\ldots,\\mathbf{x}_N; \\mathbf{w}, b) + \\lambda ||\\mathbf{w}||^2 \\quad \n",
    "\\left( P(y_1,\\ldots,y_N|\\mathbf{x}_1,\\ldots,\\mathbf{x}_N; \\mathbf{w}, b) = \\prod_{i = 1}^N P(y = y_i|\\mathbf{x} = \\mathbf{x}_i; \\mathbf{w}, b) \\right) \\\\\n",
    "&=&-\\sum_i \\log p(y_i|\\mathbf{x}_i; \\mathbf{w}, b) + \\lambda ||\\mathbf{w}||^2\n",
    "\\end{eqnarray}\n"
   ]
  },
  {
   "cell_type": "code",
   "execution_count": 4,
   "metadata": {
    "collapsed": false
   },
   "outputs": [],
   "source": [
    "# Create the model\n",
    "\n",
    "x = tf.placeholder(tf.float32, [None, dim_data])\n",
    "#W = tf.Variable(tf.zeros([dim_data,1]))\n",
    "W = tf.Variable(tf.ones([dim_data,1]))\n",
    "b = tf.Variable(tf.zeros([1]))\n",
    "y_true = tf.placeholder(tf.float32, [None])"
   ]
  },
  {
   "cell_type": "code",
   "execution_count": 5,
   "metadata": {
    "collapsed": false
   },
   "outputs": [
    {
     "name": "stdout",
     "output_type": "stream",
     "text": [
      "Tensor(\"Sigmoid:0\", shape=(?, 1), dtype=float32)\n"
     ]
    }
   ],
   "source": [
    "a = tf.matmul(x, W) + b\n",
    "p_y = tf.sigmoid(tf.mul(a, tf.reshape(y_true, [-1,1]) ))\n",
    "print p_y"
   ]
  },
  {
   "cell_type": "code",
   "execution_count": 6,
   "metadata": {
    "collapsed": true
   },
   "outputs": [],
   "source": [
    "loss = tf.reduce_mean(-tf.log(p_y))"
   ]
  },
  {
   "cell_type": "code",
   "execution_count": 7,
   "metadata": {
    "collapsed": true
   },
   "outputs": [],
   "source": [
    "train_step = tf.train.GradientDescentOptimizer(0.1).minimize(loss)"
   ]
  },
  {
   "cell_type": "code",
   "execution_count": 8,
   "metadata": {
    "collapsed": true
   },
   "outputs": [],
   "source": [
    "config = tf.ConfigProto()\n",
    "config.gpu_options.allow_growth=True\n",
    "sess = tf.Session(config=config)\n",
    "sess.run(tf.initialize_all_variables())\n"
   ]
  },
  {
   "cell_type": "code",
   "execution_count": 9,
   "metadata": {
    "collapsed": false
   },
   "outputs": [
    {
     "data": {
      "text/plain": [
       "[<matplotlib.lines.Line2D at 0x7f95c03c4e10>]"
      ]
     },
     "execution_count": 9,
     "metadata": {},
     "output_type": "execute_result"
    },
    {
     "data": {
      "image/png": "[encoded data removed]",
      "text/plain": [
       "<matplotlib.figure.Figure at 0x7f95c49fb550>"
      ]
     },
     "metadata": {},
     "output_type": "display_data"
    }
   ],
   "source": [
    "# Train\n",
    "loss_history = []\n",
    "for i in range(10):\n",
    "    sess.run(train_step, feed_dict={x: data_x, y_true: data_y})\n",
    "    loss_history.append( sess.run(loss, feed_dict={x: data_x, y_true: data_y}) )\n",
    "    #print sess.run( p_y, feed_dict={x: data_x, y_true: data_y})\n",
    "    #print sess.run(W), sess.run(b)\n",
    "    \n",
    "plt.plot(loss_history)"
   ]
  },
  {
   "cell_type": "code",
   "execution_count": 10,
   "metadata": {
    "collapsed": false
   },
   "outputs": [
    {
     "data": {
      "image/png": "[encoded data removed]",
      "text/plain": [
       "<matplotlib.figure.Figure at 0x7f95c3d35bd0>"
      ]
     },
     "metadata": {},
     "output_type": "display_data"
    }
   ],
   "source": [
    "draw_state(sess.run(W), sess.run(b))\n"
   ]
  }
 ],
 "metadata": {
  "kernelspec": {
   "display_name": "Python 2",
   "language": "python",
   "name": "python2"
  },
  "language_info": {
   "codemirror_mode": {
    "name": "ipython",
    "version": 2
   },
   "file_extension": ".py",
   "mimetype": "text/x-python",
   "name": "python",
   "nbconvert_exporter": "python",
   "pygments_lexer": "ipython2",
   "version": "2.7.9"
  }
 },
 "nbformat": 4,
 "nbformat_minor": 1
}
