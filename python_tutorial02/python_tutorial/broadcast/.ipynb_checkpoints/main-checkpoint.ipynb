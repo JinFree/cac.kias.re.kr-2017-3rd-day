{
 "cells": [
  {
   "cell_type": "code",
   "execution_count": 2,
   "metadata": {},
   "outputs": [
    {
     "ename": "ImportError",
     "evalue": "No module named distance_py",
     "output_type": "error",
     "traceback": [
      "\u001b[0;31m---------------------------------------------------------------------------\u001b[0m",
      "\u001b[0;31mImportError\u001b[0m                               Traceback (most recent call last)",
      "\u001b[0;32m<ipython-input-2-dc748dec831b>\u001b[0m in \u001b[0;36m<module>\u001b[0;34m()\u001b[0m\n\u001b[1;32m      1\u001b[0m \u001b[0;32mimport\u001b[0m \u001b[0mnumpy\u001b[0m \u001b[0;32mas\u001b[0m \u001b[0mnp\u001b[0m\u001b[0;34m\u001b[0m\u001b[0m\n\u001b[0;32m----> 2\u001b[0;31m \u001b[0;32mimport\u001b[0m \u001b[0mdistance_py\u001b[0m\u001b[0;34m\u001b[0m\u001b[0m\n\u001b[0m\u001b[1;32m      3\u001b[0m \u001b[0;32mimport\u001b[0m \u001b[0mtime\u001b[0m\u001b[0;34m\u001b[0m\u001b[0m\n\u001b[1;32m      4\u001b[0m \u001b[0;34m\u001b[0m\u001b[0m\n\u001b[1;32m      5\u001b[0m \u001b[0;32mdef\u001b[0m \u001b[0mmain\u001b[0m\u001b[0;34m(\u001b[0m\u001b[0;34m)\u001b[0m\u001b[0;34m:\u001b[0m\u001b[0;34m\u001b[0m\u001b[0m\n",
      "\u001b[0;31mImportError\u001b[0m: No module named distance_py"
     ]
    }
   ],
   "source": [
    "import numpy as np\n",
    "import distance_py\n",
    "import time\n",
    "\n",
    "def main():\n",
    "    c1_size = 1000\n",
    "    c2_size = 500\n",
    "\n",
    "    c1 = np.random.random((c1_size,3))\n",
    "    c2 = np.random.random((c2_size,3))\n",
    "\n",
    "    repeat = 20\n",
    "\n",
    "    print \"Numba\"\n",
    "    t = time.time()\n",
    "    for i in xrange(repeat):\n",
    "        dist = distance_py.calc_distance_loop(c1,c2)\n",
    "    print \"    Time:\", time.time()-t\n",
    "    print \"    Check:\", dist[10][10] == np.sqrt( np.sum( (c1[10]-c2[10])**2 ) )\n",
    "\n",
    "    print \"Numba (typed)\"\n",
    "    t = time.time()\n",
    "    for i in xrange(repeat):\n",
    "        dist = distance_py.calc_distance_loop2(c1,c2)\n",
    "    print \"    Time:\", time.time()-t\n",
    "    print \"    Check:\", dist[10][10] == np.sqrt( np.sum( (c1[10]-c2[10])**2 ) )\n",
    "\n",
    "if __name__ == '__main__':\n",
    "    main()"
   ]
  }
 ],
 "metadata": {
  "kernelspec": {
   "display_name": "Python 2",
   "language": "python",
   "name": "python2"
  },
  "language_info": {
   "codemirror_mode": {
    "name": "ipython",
    "version": 2
   },
   "file_extension": ".py",
   "mimetype": "text/x-python",
   "name": "python",
   "nbconvert_exporter": "python",
   "pygments_lexer": "ipython2",
   "version": "2.7.13"
  }
 },
 "nbformat": 4,
 "nbformat_minor": 2
}
